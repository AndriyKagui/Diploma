{
 "cells": [
  {
   "cell_type": "code",
   "execution_count": 5,
   "id": "480301d4",
   "metadata": {},
   "outputs": [],
   "source": [
    "from tensorflow.keras.preprocessing.image import ImageDataGenerator"
   ]
  },
  {
   "cell_type": "code",
   "execution_count": 6,
   "id": "82f5c22b",
   "metadata": {},
   "outputs": [],
   "source": [
    "train_dir = \"fer2013/train\" \n",
    "test_dir = \"fer2013/test\"  "
   ]
  },
  {
   "cell_type": "code",
   "execution_count": 7,
   "id": "32c069bb",
   "metadata": {},
   "outputs": [],
   "source": [
    "train_datagen = ImageDataGenerator(\n",
    "    width_shift_range = 0.1,        \n",
    "    height_shift_range = 0.1,       \n",
    "    horizontal_flip = True,         \n",
    "    rescale = 1./255,               \n",
    "    validation_split = 0.2          \n",
    ")\n",
    "\n",
    "validation_datagen = ImageDataGenerator(\n",
    "    rescale = 1./255,               \n",
    "    validation_split = 0.2          \n",
    ")"
   ]
  },
  {
   "cell_type": "code",
   "execution_count": 8,
   "id": "a93870f5",
   "metadata": {},
   "outputs": [
    {
     "name": "stdout",
     "output_type": "stream",
     "text": [
      "Found 22968 images belonging to 7 classes.\n",
      "Found 1432 images belonging to 7 classes.\n"
     ]
    }
   ],
   "source": [
    "train_generator = train_datagen.flow_from_directory(\n",
    "    directory = train_dir,           \n",
    "    target_size = (48, 48),          \n",
    "    batch_size = 64,                 \n",
    "    color_mode = \"grayscale\",        \n",
    "    class_mode = \"categorical\",      \n",
    "    subset = \"training\"              \n",
    ")\n",
    "\n",
    "validation_generator = validation_datagen.flow_from_directory(\n",
    "    directory = test_dir,            \n",
    "    target_size = (48, 48),          \n",
    "    batch_size = 64,                 \n",
    "    color_mode = \"grayscale\",        \n",
    "    class_mode = \"categorical\",      \n",
    "    subset = \"validation\"            \n",
    ")"
   ]
  },
  {
   "cell_type": "code",
   "execution_count": 23,
   "id": "6c923950",
   "metadata": {},
   "outputs": [],
   "source": [
    "from tensorflow.keras.layers import Dense, Dropout, Flatten\n",
    "from tensorflow.keras.layers import Conv2D, MaxPooling2D\n",
    "from tensorflow.keras.models import Sequential\n",
    "from tensorflow.keras.layers import BatchNormalization\n",
    "import tensorflow as tf "
   ]
  },
  {
   "cell_type": "code",
   "execution_count": 10,
   "id": "b36b5fed",
   "metadata": {},
   "outputs": [
    {
     "name": "stderr",
     "output_type": "stream",
     "text": [
      "WARNING:absl:`lr` is deprecated, please use `learning_rate` instead, or use the legacy optimizer, e.g.,tf.keras.optimizers.legacy.Adam.\n"
     ]
    }
   ],
   "source": [
    "model = Sequential()\n",
    "\n",
    "model.add(Conv2D(32, kernel_size=(3, 3), activation='relu', input_shape=(48,48,1)))\n",
    "model.add(BatchNormalization())\n",
    "model.add(Conv2D(64, kernel_size=(3, 3), activation='relu'))\n",
    "model.add(BatchNormalization())\n",
    "model.add(MaxPooling2D(pool_size=(2, 2)))\n",
    "model.add(Dropout(0.25))\n",
    "\n",
    "model.add(Conv2D(128, kernel_size=(3, 3), activation='relu'))\n",
    "model.add(BatchNormalization())\n",
    "model.add(Conv2D(128, kernel_size=(3, 3), activation='relu'))\n",
    "model.add(BatchNormalization())\n",
    "model.add(MaxPooling2D(pool_size=(2, 2)))\n",
    "model.add(Dropout(0.25))\n",
    "\n",
    "model.add(Conv2D(256, kernel_size=(3, 3), activation='relu'))\n",
    "model.add(BatchNormalization())\n",
    "model.add(Conv2D(256, kernel_size=(3, 3), activation='relu'))\n",
    "model.add(BatchNormalization())\n",
    "model.add(MaxPooling2D(pool_size=(2, 2)))\n",
    "model.add(Dropout(0.25))\n",
    "\n",
    "model.add(Flatten())\n",
    "model.add(Dense(256, activation='relu'))\n",
    "model.add(BatchNormalization())\n",
    "model.add(Dropout(0.5))\n",
    "model.add(Dense(7, activation='softmax'))\n",
    "\n",
    "model.compile(loss=\"categorical_crossentropy\", optimizer= tf.keras.optimizers.Adam(lr=0.0001), metrics=['accuracy'])"
   ]
  },
  {
   "cell_type": "code",
   "execution_count": 13,
   "id": "876c0830",
   "metadata": {},
   "outputs": [
    {
     "name": "stdout",
     "output_type": "stream",
     "text": [
      "Epoch 1/50\n",
      "359/359 [==============================] - ETA: 0s - loss: 2.2237 - accuracy: 0.2323\n",
      "Epoch 1: val_accuracy improved from -inf to 0.24441, saving model to model_weights.h5\n",
      "359/359 [==============================] - 208s 571ms/step - loss: 2.2237 - accuracy: 0.2323 - val_loss: 1.7828 - val_accuracy: 0.2444\n",
      "Epoch 2/50\n",
      "359/359 [==============================] - ETA: 0s - loss: 1.6888 - accuracy: 0.3586\n",
      "Epoch 2: val_accuracy improved from 0.24441 to 0.39036, saving model to model_weights.h5\n",
      "359/359 [==============================] - 120s 335ms/step - loss: 1.6888 - accuracy: 0.3586 - val_loss: 1.5290 - val_accuracy: 0.3904\n",
      "Epoch 3/50\n",
      "359/359 [==============================] - ETA: 0s - loss: 1.4888 - accuracy: 0.4316\n",
      "Epoch 3: val_accuracy improved from 0.39036 to 0.47696, saving model to model_weights.h5\n",
      "359/359 [==============================] - 116s 323ms/step - loss: 1.4888 - accuracy: 0.4316 - val_loss: 1.3904 - val_accuracy: 0.4770\n",
      "Epoch 4/50\n",
      "359/359 [==============================] - ETA: 0s - loss: 1.3647 - accuracy: 0.4804\n",
      "Epoch 4: val_accuracy did not improve from 0.47696\n",
      "359/359 [==============================] - 117s 325ms/step - loss: 1.3647 - accuracy: 0.4804 - val_loss: 1.4357 - val_accuracy: 0.4735\n",
      "Epoch 5/50\n",
      "359/359 [==============================] - ETA: 0s - loss: 1.3005 - accuracy: 0.5087\n",
      "Epoch 5: val_accuracy improved from 0.47696 to 0.54469, saving model to model_weights.h5\n",
      "359/359 [==============================] - 117s 326ms/step - loss: 1.3005 - accuracy: 0.5087 - val_loss: 1.2232 - val_accuracy: 0.5447\n",
      "Epoch 6/50\n",
      "359/359 [==============================] - ETA: 0s - loss: 1.2451 - accuracy: 0.5238\n",
      "Epoch 6: val_accuracy improved from 0.54469 to 0.57612, saving model to model_weights.h5\n",
      "359/359 [==============================] - 116s 324ms/step - loss: 1.2451 - accuracy: 0.5238 - val_loss: 1.1460 - val_accuracy: 0.5761\n",
      "Epoch 7/50\n",
      "359/359 [==============================] - ETA: 0s - loss: 1.2109 - accuracy: 0.5430\n",
      "Epoch 7: val_accuracy improved from 0.57612 to 0.57961, saving model to model_weights.h5\n",
      "359/359 [==============================] - 117s 325ms/step - loss: 1.2109 - accuracy: 0.5430 - val_loss: 1.1161 - val_accuracy: 0.5796\n",
      "Epoch 8/50\n",
      "359/359 [==============================] - ETA: 0s - loss: 1.1805 - accuracy: 0.5562\n",
      "Epoch 8: val_accuracy did not improve from 0.57961\n",
      "359/359 [==============================] - 118s 327ms/step - loss: 1.1805 - accuracy: 0.5562 - val_loss: 1.1367 - val_accuracy: 0.5656\n",
      "Epoch 9/50\n",
      "359/359 [==============================] - ETA: 0s - loss: 1.1549 - accuracy: 0.5639\n",
      "Epoch 9: val_accuracy did not improve from 0.57961\n",
      "359/359 [==============================] - 117s 326ms/step - loss: 1.1549 - accuracy: 0.5639 - val_loss: 1.2019 - val_accuracy: 0.5475\n",
      "Epoch 10/50\n",
      "359/359 [==============================] - ETA: 0s - loss: 1.1343 - accuracy: 0.5733\n",
      "Epoch 10: val_accuracy did not improve from 0.57961\n",
      "359/359 [==============================] - 119s 332ms/step - loss: 1.1343 - accuracy: 0.5733 - val_loss: 1.1449 - val_accuracy: 0.5768\n",
      "Epoch 11/50\n",
      "359/359 [==============================] - ETA: 0s - loss: 1.1162 - accuracy: 0.5782\n",
      "Epoch 11: val_accuracy improved from 0.57961 to 0.58170, saving model to model_weights.h5\n",
      "359/359 [==============================] - 116s 324ms/step - loss: 1.1162 - accuracy: 0.5782 - val_loss: 1.1141 - val_accuracy: 0.5817\n",
      "Epoch 12/50\n",
      "359/359 [==============================] - ETA: 0s - loss: 1.0949 - accuracy: 0.5874\n",
      "Epoch 12: val_accuracy improved from 0.58170 to 0.58939, saving model to model_weights.h5\n",
      "359/359 [==============================] - 116s 324ms/step - loss: 1.0949 - accuracy: 0.5874 - val_loss: 1.0966 - val_accuracy: 0.5894\n",
      "Epoch 13/50\n",
      "359/359 [==============================] - ETA: 0s - loss: 1.0809 - accuracy: 0.5951\n",
      "Epoch 13: val_accuracy did not improve from 0.58939\n",
      "359/359 [==============================] - 116s 324ms/step - loss: 1.0809 - accuracy: 0.5951 - val_loss: 1.0835 - val_accuracy: 0.5831\n",
      "Epoch 14/50\n",
      "359/359 [==============================] - ETA: 0s - loss: 1.0678 - accuracy: 0.6007\n",
      "Epoch 14: val_accuracy improved from 0.58939 to 0.59916, saving model to model_weights.h5\n",
      "359/359 [==============================] - 116s 322ms/step - loss: 1.0678 - accuracy: 0.6007 - val_loss: 1.0832 - val_accuracy: 0.5992\n",
      "Epoch 15/50\n",
      "359/359 [==============================] - ETA: 0s - loss: 1.0485 - accuracy: 0.6071\n",
      "Epoch 15: val_accuracy improved from 0.59916 to 0.61802, saving model to model_weights.h5\n",
      "359/359 [==============================] - 116s 323ms/step - loss: 1.0485 - accuracy: 0.6071 - val_loss: 1.0192 - val_accuracy: 0.6180\n",
      "Epoch 16/50\n",
      "359/359 [==============================] - ETA: 0s - loss: 1.0315 - accuracy: 0.6145\n",
      "Epoch 16: val_accuracy did not improve from 0.61802\n",
      "359/359 [==============================] - 116s 322ms/step - loss: 1.0315 - accuracy: 0.6145 - val_loss: 1.0391 - val_accuracy: 0.6138\n",
      "Epoch 17/50\n",
      "359/359 [==============================] - ETA: 0s - loss: 1.0212 - accuracy: 0.6195\n",
      "Epoch 17: val_accuracy did not improve from 0.61802\n",
      "359/359 [==============================] - 124s 347ms/step - loss: 1.0212 - accuracy: 0.6195 - val_loss: 1.0201 - val_accuracy: 0.6159\n",
      "Epoch 18/50\n",
      "359/359 [==============================] - ETA: 0s - loss: 1.0025 - accuracy: 0.6264\n",
      "Epoch 18: val_accuracy improved from 0.61802 to 0.62989, saving model to model_weights.h5\n",
      "359/359 [==============================] - 117s 326ms/step - loss: 1.0025 - accuracy: 0.6264 - val_loss: 1.0176 - val_accuracy: 0.6299\n",
      "Epoch 19/50\n",
      "359/359 [==============================] - ETA: 0s - loss: 0.9936 - accuracy: 0.6291\n",
      "Epoch 19: val_accuracy improved from 0.62989 to 0.63617, saving model to model_weights.h5\n",
      "359/359 [==============================] - 117s 326ms/step - loss: 0.9936 - accuracy: 0.6291 - val_loss: 0.9889 - val_accuracy: 0.6362\n",
      "Epoch 20/50\n",
      "359/359 [==============================] - ETA: 0s - loss: 0.9789 - accuracy: 0.6348\n",
      "Epoch 20: val_accuracy did not improve from 0.63617\n",
      "359/359 [==============================] - 117s 325ms/step - loss: 0.9789 - accuracy: 0.6348 - val_loss: 0.9945 - val_accuracy: 0.6285\n",
      "Epoch 21/50\n",
      "359/359 [==============================] - ETA: 0s - loss: 0.9727 - accuracy: 0.6392\n",
      "Epoch 21: val_accuracy did not improve from 0.63617\n",
      "359/359 [==============================] - 116s 324ms/step - loss: 0.9727 - accuracy: 0.6392 - val_loss: 0.9973 - val_accuracy: 0.6222\n",
      "Epoch 22/50\n",
      "359/359 [==============================] - ETA: 0s - loss: 0.9540 - accuracy: 0.6448\n",
      "Epoch 22: val_accuracy did not improve from 0.63617\n",
      "359/359 [==============================] - 115s 319ms/step - loss: 0.9540 - accuracy: 0.6448 - val_loss: 1.0197 - val_accuracy: 0.6131\n",
      "Epoch 23/50\n",
      "359/359 [==============================] - ETA: 0s - loss: 0.9421 - accuracy: 0.6524\n",
      "Epoch 23: val_accuracy did not improve from 0.63617\n",
      "359/359 [==============================] - 114s 317ms/step - loss: 0.9421 - accuracy: 0.6524 - val_loss: 0.9613 - val_accuracy: 0.6306\n",
      "Epoch 24/50\n",
      "359/359 [==============================] - ETA: 0s - loss: 0.9325 - accuracy: 0.6544\n",
      "Epoch 24: val_accuracy improved from 0.63617 to 0.64944, saving model to model_weights.h5\n",
      "359/359 [==============================] - 115s 319ms/step - loss: 0.9325 - accuracy: 0.6544 - val_loss: 0.9536 - val_accuracy: 0.6494\n",
      "Epoch 25/50\n",
      "359/359 [==============================] - ETA: 0s - loss: 0.9235 - accuracy: 0.6604\n",
      "Epoch 25: val_accuracy did not improve from 0.64944\n",
      "359/359 [==============================] - 114s 319ms/step - loss: 0.9235 - accuracy: 0.6604 - val_loss: 0.9201 - val_accuracy: 0.6494\n",
      "Epoch 26/50\n",
      "359/359 [==============================] - ETA: 0s - loss: 0.9107 - accuracy: 0.6627\n",
      "Epoch 26: val_accuracy improved from 0.64944 to 0.65154, saving model to model_weights.h5\n",
      "359/359 [==============================] - 114s 318ms/step - loss: 0.9107 - accuracy: 0.6627 - val_loss: 0.9548 - val_accuracy: 0.6515\n",
      "Epoch 27/50\n",
      "359/359 [==============================] - ETA: 0s - loss: 0.8999 - accuracy: 0.6656\n",
      "Epoch 27: val_accuracy improved from 0.65154 to 0.65363, saving model to model_weights.h5\n",
      "359/359 [==============================] - 114s 318ms/step - loss: 0.8999 - accuracy: 0.6656 - val_loss: 0.9354 - val_accuracy: 0.6536\n",
      "Epoch 28/50\n",
      "359/359 [==============================] - ETA: 0s - loss: 0.8945 - accuracy: 0.6651\n",
      "Epoch 28: val_accuracy did not improve from 0.65363\n",
      "359/359 [==============================] - 114s 316ms/step - loss: 0.8945 - accuracy: 0.6651 - val_loss: 0.9522 - val_accuracy: 0.6536\n",
      "Epoch 29/50\n",
      "359/359 [==============================] - ETA: 0s - loss: 0.8838 - accuracy: 0.6701\n",
      "Epoch 29: val_accuracy improved from 0.65363 to 0.66760, saving model to model_weights.h5\n",
      "359/359 [==============================] - 115s 319ms/step - loss: 0.8838 - accuracy: 0.6701 - val_loss: 0.9249 - val_accuracy: 0.6676\n",
      "Epoch 30/50\n",
      "359/359 [==============================] - ETA: 0s - loss: 0.8743 - accuracy: 0.6759\n",
      "Epoch 30: val_accuracy did not improve from 0.66760\n",
      "359/359 [==============================] - 114s 317ms/step - loss: 0.8743 - accuracy: 0.6759 - val_loss: 0.9325 - val_accuracy: 0.6599\n",
      "Epoch 31/50\n",
      "359/359 [==============================] - ETA: 0s - loss: 0.8641 - accuracy: 0.6782\n",
      "Epoch 31: val_accuracy did not improve from 0.66760\n",
      "359/359 [==============================] - 114s 318ms/step - loss: 0.8641 - accuracy: 0.6782 - val_loss: 0.9673 - val_accuracy: 0.6487\n",
      "Epoch 32/50\n",
      "359/359 [==============================] - ETA: 0s - loss: 0.8487 - accuracy: 0.6847\n",
      "Epoch 32: val_accuracy did not improve from 0.66760\n",
      "359/359 [==============================] - 115s 319ms/step - loss: 0.8487 - accuracy: 0.6847 - val_loss: 1.0156 - val_accuracy: 0.6299\n",
      "Epoch 33/50\n",
      "359/359 [==============================] - ETA: 0s - loss: 0.8417 - accuracy: 0.6903\n",
      "Epoch 33: val_accuracy did not improve from 0.66760\n",
      "359/359 [==============================] - 114s 317ms/step - loss: 0.8417 - accuracy: 0.6903 - val_loss: 0.9325 - val_accuracy: 0.6662\n",
      "Epoch 34/50\n",
      "359/359 [==============================] - ETA: 0s - loss: 0.8356 - accuracy: 0.6902\n",
      "Epoch 34: val_accuracy did not improve from 0.66760\n",
      "359/359 [==============================] - 114s 319ms/step - loss: 0.8356 - accuracy: 0.6902 - val_loss: 0.9207 - val_accuracy: 0.6606\n",
      "Epoch 35/50\n",
      "359/359 [==============================] - ETA: 0s - loss: 0.8239 - accuracy: 0.6942\n",
      "Epoch 35: val_accuracy did not improve from 0.66760\n",
      "359/359 [==============================] - 115s 319ms/step - loss: 0.8239 - accuracy: 0.6942 - val_loss: 0.9985 - val_accuracy: 0.6306\n",
      "Epoch 36/50\n",
      "359/359 [==============================] - ETA: 0s - loss: 0.8159 - accuracy: 0.6939\n",
      "Epoch 36: val_accuracy did not improve from 0.66760\n",
      "359/359 [==============================] - 114s 317ms/step - loss: 0.8159 - accuracy: 0.6939 - val_loss: 0.9338 - val_accuracy: 0.6634\n",
      "Epoch 37/50\n",
      "359/359 [==============================] - ETA: 0s - loss: 0.8099 - accuracy: 0.6972\n",
      "Epoch 37: val_accuracy did not improve from 0.66760\n",
      "359/359 [==============================] - 114s 317ms/step - loss: 0.8099 - accuracy: 0.6972 - val_loss: 0.9581 - val_accuracy: 0.6536\n",
      "Epoch 38/50\n",
      "359/359 [==============================] - ETA: 0s - loss: 0.7967 - accuracy: 0.7015\n",
      "Epoch 38: val_accuracy did not improve from 0.66760\n",
      "359/359 [==============================] - 114s 316ms/step - loss: 0.7967 - accuracy: 0.7015 - val_loss: 0.9565 - val_accuracy: 0.6564\n",
      "Epoch 39/50\n",
      "359/359 [==============================] - ETA: 0s - loss: 0.7926 - accuracy: 0.7069\n",
      "Epoch 39: val_accuracy did not improve from 0.66760\n",
      "359/359 [==============================] - 114s 316ms/step - loss: 0.7926 - accuracy: 0.7069 - val_loss: 0.9432 - val_accuracy: 0.6453\n",
      "Epoch 40/50\n",
      "359/359 [==============================] - ETA: 0s - loss: 0.7844 - accuracy: 0.7076\n",
      "Epoch 40: val_accuracy did not improve from 0.66760\n",
      "359/359 [==============================] - 114s 318ms/step - loss: 0.7844 - accuracy: 0.7076 - val_loss: 0.9823 - val_accuracy: 0.6480\n",
      "Epoch 41/50\n",
      "359/359 [==============================] - ETA: 0s - loss: 0.7754 - accuracy: 0.7107\n",
      "Epoch 41: val_accuracy improved from 0.66760 to 0.66830, saving model to model_weights.h5\n",
      "359/359 [==============================] - 114s 318ms/step - loss: 0.7754 - accuracy: 0.7107 - val_loss: 0.9435 - val_accuracy: 0.6683\n",
      "Epoch 42/50\n",
      "359/359 [==============================] - ETA: 0s - loss: 0.7715 - accuracy: 0.7133\n",
      "Epoch 42: val_accuracy did not improve from 0.66830\n",
      "359/359 [==============================] - 115s 321ms/step - loss: 0.7715 - accuracy: 0.7133 - val_loss: 0.9944 - val_accuracy: 0.6453\n",
      "Epoch 43/50\n",
      "359/359 [==============================] - ETA: 0s - loss: 0.7654 - accuracy: 0.7157\n",
      "Epoch 43: val_accuracy did not improve from 0.66830\n",
      "359/359 [==============================] - 114s 318ms/step - loss: 0.7654 - accuracy: 0.7157 - val_loss: 0.9673 - val_accuracy: 0.6620\n",
      "Epoch 44/50\n",
      "359/359 [==============================] - ETA: 0s - loss: 0.7530 - accuracy: 0.7179\n",
      "Epoch 44: val_accuracy did not improve from 0.66830\n",
      "359/359 [==============================] - 114s 318ms/step - loss: 0.7530 - accuracy: 0.7179 - val_loss: 0.9472 - val_accuracy: 0.6536\n",
      "Epoch 45/50\n",
      "359/359 [==============================] - ETA: 0s - loss: 0.7557 - accuracy: 0.7217\n",
      "Epoch 45: val_accuracy did not improve from 0.66830\n",
      "359/359 [==============================] - 114s 319ms/step - loss: 0.7557 - accuracy: 0.7217 - val_loss: 0.9732 - val_accuracy: 0.6676\n",
      "Epoch 46/50\n",
      "359/359 [==============================] - ETA: 0s - loss: 0.7369 - accuracy: 0.7272\n",
      "Epoch 46: val_accuracy did not improve from 0.66830\n",
      "359/359 [==============================] - 114s 317ms/step - loss: 0.7369 - accuracy: 0.7272 - val_loss: 0.9774 - val_accuracy: 0.6564\n",
      "Epoch 47/50\n",
      "359/359 [==============================] - ETA: 0s - loss: 0.7321 - accuracy: 0.7271\n",
      "Epoch 47: val_accuracy did not improve from 0.66830\n",
      "359/359 [==============================] - 113s 316ms/step - loss: 0.7321 - accuracy: 0.7271 - val_loss: 1.0089 - val_accuracy: 0.6543\n",
      "Epoch 48/50\n",
      "359/359 [==============================] - ETA: 0s - loss: 0.7262 - accuracy: 0.7316\n",
      "Epoch 48: val_accuracy improved from 0.66830 to 0.67877, saving model to model_weights.h5\n",
      "359/359 [==============================] - 114s 317ms/step - loss: 0.7262 - accuracy: 0.7316 - val_loss: 0.9501 - val_accuracy: 0.6788\n",
      "Epoch 49/50\n",
      "359/359 [==============================] - ETA: 0s - loss: 0.7200 - accuracy: 0.7323\n",
      "Epoch 49: val_accuracy did not improve from 0.67877\n",
      "359/359 [==============================] - 114s 316ms/step - loss: 0.7200 - accuracy: 0.7323 - val_loss: 0.9854 - val_accuracy: 0.6760\n",
      "Epoch 50/50\n",
      "359/359 [==============================] - ETA: 0s - loss: 0.7201 - accuracy: 0.7352\n",
      "Epoch 50: val_accuracy did not improve from 0.67877\n",
      "359/359 [==============================] - 114s 317ms/step - loss: 0.7201 - accuracy: 0.7352 - val_loss: 0.9287 - val_accuracy: 0.6788\n"
     ]
    }
   ],
   "source": [
    "from tensorflow.keras.callbacks import ModelCheckpoint\n",
    "\n",
    "checkpoint_callback = ModelCheckpoint(\n",
    "    filepath='model_weights.h5',\n",
    "    monitor='val_accuracy',\n",
    "    save_best_only=True,\n",
    "    save_weights_only=True,\n",
    "    mode='max',\n",
    "    verbose=1\n",
    ")\n",
    "\n",
    "history = model.fit(\n",
    "    train_generator,\n",
    "    steps_per_epoch=len(train_generator),\n",
    "    epochs=50,\n",
    "    validation_data=validation_generator,\n",
    "    validation_steps=len(validation_generator),\n",
    "    callbacks=[checkpoint_callback]\n",
    ")"
   ]
  },
  {
   "cell_type": "code",
   "execution_count": 15,
   "id": "d7ec9041",
   "metadata": {},
   "outputs": [
    {
     "data": {
      "image/png": "[encoded data removed]",
      "text/plain": [
       "<Figure size 432x288 with 1 Axes>"
      ]
     },
     "metadata": {
      "needs_background": "light"
     },
     "output_type": "display_data"
    }
   ],
   "source": [
    "import matplotlib.pyplot as plt\n",
    "# Plot the train and validation loss\n",
    "train_loss = history.history['loss']\n",
    "val_loss = history.history['val_loss']\n",
    "epochs = range(1, len(train_loss) + 1)\n",
    "plt.plot(epochs, train_loss, 'bo', label='Training loss')\n",
    "plt.plot(epochs, val_loss, 'b', label='Validation loss')\n",
    "plt.title('Training and validation loss')\n",
    "plt.xlabel('Epochs')\n",
    "plt.ylabel('Loss')\n",
    "plt.legend()\n",
    "plt.show()"
   ]
  },
  {
   "cell_type": "code",
   "execution_count": 16,
   "id": "ec80cdc1",
   "metadata": {},
   "outputs": [
    {
     "data": {
      "image/png": "[encoded data removed]",
      "text/plain": [
       "<Figure size 432x288 with 1 Axes>"
      ]
     },
     "metadata": {
      "needs_background": "light"
     },
     "output_type": "display_data"
    }
   ],
   "source": [
    "# Plot the train and validation accuracy\n",
    "train_acc = history.history['accuracy']\n",
    "val_acc = history.history['val_accuracy']\n",
    "plt.plot(epochs, train_acc, 'bo', label='Training accuracy')\n",
    "plt.plot(epochs, val_acc, 'b', label='Validation accuracy')\n",
    "plt.title('Training and validation accuracy')\n",
    "plt.xlabel('Epochs')\n",
    "plt.ylabel('Accuracy')\n",
    "plt.legend()\n",
    "plt.show()"
   ]
  },
  {
   "cell_type": "code",
   "execution_count": 18,
   "id": "69024290",
   "metadata": {},
   "outputs": [
    {
     "name": "stdout",
     "output_type": "stream",
     "text": [
      "23/23 [==============================] - 2s 69ms/step\n"
     ]
    },
    {
     "data": {
      "image/png": "[encoded data removed]",
      "text/plain": [
       "<Figure size 432x288 with 2 Axes>"
      ]
     },
     "metadata": {},
     "output_type": "display_data"
    }
   ],
   "source": [
    "import seaborn as sns \n",
    "from sklearn.metrics import confusion_matrix\n",
    "import numpy as np\n",
    "\n",
    "# Get the true labels and predicted labels for the validation set\n",
    "validation_labels = validation_generator.classes\n",
    "validation_pred_probs = model.predict(validation_generator)\n",
    "validation_pred_labels = np.argmax(validation_pred_probs, axis=1)\n",
    "\n",
    "# Compute the confusion matrix\n",
    "confusion_mtx = confusion_matrix(validation_labels, validation_pred_labels)\n",
    "class_names = list(train_generator.class_indices.keys())\n",
    "sns.set()\n",
    "sns.heatmap(confusion_mtx, annot=True, fmt='d', cmap='YlGnBu', \n",
    "            xticklabels=class_names, yticklabels=class_names)\n",
    "plt.xlabel('Predicted Label')\n",
    "plt.ylabel('True Label')\n",
    "plt.title('Confusion Matrix')\n",
    "plt.show()"
   ]
  },
  {
   "cell_type": "code",
   "execution_count": 5,
   "id": "4b381a07",
   "metadata": {},
   "outputs": [
    {
     "name": "stdout",
     "output_type": "stream",
     "text": [
      "Defaulting to user installation because normal site-packages is not writeable\n",
      "Requirement already satisfied: keras2onnx in c:\\users\\andri\\appdata\\roaming\\python\\python39\\site-packages (1.7.0)\n",
      "Requirement already satisfied: numpy in c:\\programdata\\anaconda3\\lib\\site-packages (from keras2onnx) (1.21.5)\n",
      "Requirement already satisfied: fire in c:\\users\\andri\\appdata\\roaming\\python\\python39\\site-packages (from keras2onnx) (0.5.0)\n",
      "Requirement already satisfied: protobuf in c:\\programdata\\anaconda3\\lib\\site-packages (from keras2onnx) (3.19.1)\n",
      "Requirement already satisfied: onnx in c:\\users\\andri\\appdata\\roaming\\python\\python39\\site-packages (from keras2onnx) (1.9.0)\n",
      "Requirement already satisfied: onnxconverter-common>=1.7.0 in c:\\users\\andri\\appdata\\roaming\\python\\python39\\site-packages (from keras2onnx) (1.13.0)\n",
      "Requirement already satisfied: requests in c:\\programdata\\anaconda3\\lib\\site-packages (from keras2onnx) (2.27.1)\n",
      "Requirement already satisfied: packaging in c:\\programdata\\anaconda3\\lib\\site-packages (from onnxconverter-common>=1.7.0->keras2onnx) (21.3)\n",
      "Requirement already satisfied: termcolor in c:\\programdata\\anaconda3\\lib\\site-packages (from fire->keras2onnx) (2.2.0)\n",
      "Requirement already satisfied: six in c:\\programdata\\anaconda3\\lib\\site-packages (from fire->keras2onnx) (1.16.0)\n",
      "Requirement already satisfied: typing-extensions>=3.6.2.1 in c:\\programdata\\anaconda3\\lib\\site-packages (from onnx->keras2onnx) (4.1.1)\n",
      "Requirement already satisfied: pyparsing!=3.0.5,>=2.0.2 in c:\\programdata\\anaconda3\\lib\\site-packages (from packaging->onnxconverter-common>=1.7.0->keras2onnx) (3.0.4)\n",
      "Requirement already satisfied: idna<4,>=2.5 in c:\\programdata\\anaconda3\\lib\\site-packages (from requests->keras2onnx) (3.3)\n",
      "Requirement already satisfied: urllib3<1.27,>=1.21.1 in c:\\programdata\\anaconda3\\lib\\site-packages (from requests->keras2onnx) (1.26.9)\n",
      "Requirement already satisfied: certifi>=2017.4.17 in c:\\programdata\\anaconda3\\lib\\site-packages (from requests->keras2onnx) (2021.10.8)\n",
      "Requirement already satisfied: charset-normalizer~=2.0.0 in c:\\programdata\\anaconda3\\lib\\site-packages (from requests->keras2onnx) (2.0.4)\n"
     ]
    }
   ],
   "source": [
    "!pip install keras2onnx"
   ]
  },
  {
   "cell_type": "code",
   "execution_count": 18,
   "id": "dbd7ed7c",
   "metadata": {},
   "outputs": [
    {
     "name": "stdout",
     "output_type": "stream",
     "text": [
      "Defaulting to user installation because normal site-packages is not writeable\n"
     ]
    },
    {
     "name": "stderr",
     "output_type": "stream",
     "text": [
      "ERROR: Could not find a version that satisfies the requirement tensorflow==2.2 (from versions: 2.5.0, 2.5.1, 2.5.2, 2.5.3, 2.6.0rc0, 2.6.0rc1, 2.6.0rc2, 2.6.0, 2.6.1, 2.6.2, 2.6.3, 2.6.4, 2.6.5, 2.7.0rc0, 2.7.0rc1, 2.7.0, 2.7.1, 2.7.2, 2.7.3, 2.7.4, 2.8.0rc0, 2.8.0rc1, 2.8.0, 2.8.1, 2.8.2, 2.8.3, 2.8.4, 2.9.0rc0, 2.9.0rc1, 2.9.0rc2, 2.9.0, 2.9.1, 2.9.2, 2.9.3, 2.10.0rc0, 2.10.0rc1, 2.10.0rc2, 2.10.0rc3, 2.10.0, 2.10.1, 2.11.0rc0, 2.11.0rc1, 2.11.0rc2, 2.11.0, 2.11.1, 2.12.0rc0, 2.12.0rc1, 2.12.0)\n",
      "ERROR: No matching distribution found for tensorflow==2.2\n"
     ]
    }
   ],
   "source": [
    "!pip install tensorflow==2.2"
   ]
  },
  {
   "cell_type": "code",
   "execution_count": 19,
   "id": "06e929c4",
   "metadata": {},
   "outputs": [
    {
     "name": "stdout",
     "output_type": "stream",
     "text": [
      "Defaulting to user installation because normal site-packages is not writeable\n",
      "Requirement already satisfied: tensorflow in c:\\programdata\\anaconda3\\lib\\site-packages (2.11.0)\n",
      "Collecting tf2onnx\n",
      "  Using cached tf2onnx-1.14.0-py3-none-any.whl (451 kB)\n",
      "Requirement already satisfied: tensorflow-intel==2.11.0 in c:\\programdata\\anaconda3\\lib\\site-packages (from tensorflow) (2.11.0)\n",
      "Requirement already satisfied: gast<=0.4.0,>=0.2.1 in c:\\programdata\\anaconda3\\lib\\site-packages (from tensorflow-intel==2.11.0->tensorflow) (0.4.0)\n",
      "Requirement already satisfied: typing-extensions>=3.6.6 in c:\\programdata\\anaconda3\\lib\\site-packages (from tensorflow-intel==2.11.0->tensorflow) (4.1.1)\n",
      "Requirement already satisfied: six>=1.12.0 in c:\\programdata\\anaconda3\\lib\\site-packages (from tensorflow-intel==2.11.0->tensorflow) (1.16.0)\n",
      "Requirement already satisfied: google-pasta>=0.1.1 in c:\\programdata\\anaconda3\\lib\\site-packages (from tensorflow-intel==2.11.0->tensorflow) (0.2.0)\n",
      "Requirement already satisfied: opt-einsum>=2.3.2 in c:\\programdata\\anaconda3\\lib\\site-packages (from tensorflow-intel==2.11.0->tensorflow) (3.3.0)\n",
      "Requirement already satisfied: h5py>=2.9.0 in c:\\programdata\\anaconda3\\lib\\site-packages (from tensorflow-intel==2.11.0->tensorflow) (3.6.0)\n",
      "Requirement already satisfied: grpcio<2.0,>=1.24.3 in c:\\programdata\\anaconda3\\lib\\site-packages (from tensorflow-intel==2.11.0->tensorflow) (1.42.0)\n",
      "Requirement already satisfied: libclang>=13.0.0 in c:\\programdata\\anaconda3\\lib\\site-packages (from tensorflow-intel==2.11.0->tensorflow) (15.0.6.1)\n",
      "Requirement already satisfied: numpy>=1.20 in c:\\programdata\\anaconda3\\lib\\site-packages (from tensorflow-intel==2.11.0->tensorflow) (1.21.5)\n",
      "Requirement already satisfied: tensorboard<2.12,>=2.11 in c:\\programdata\\anaconda3\\lib\\site-packages (from tensorflow-intel==2.11.0->tensorflow) (2.11.2)\n",
      "Requirement already satisfied: flatbuffers>=2.0 in c:\\programdata\\anaconda3\\lib\\site-packages (from tensorflow-intel==2.11.0->tensorflow) (23.1.21)\n",
      "Requirement already satisfied: protobuf<3.20,>=3.9.2 in c:\\programdata\\anaconda3\\lib\\site-packages (from tensorflow-intel==2.11.0->tensorflow) (3.19.1)\n",
      "Requirement already satisfied: keras<2.12,>=2.11.0 in c:\\programdata\\anaconda3\\lib\\site-packages (from tensorflow-intel==2.11.0->tensorflow) (2.11.0)\n",
      "Requirement already satisfied: tensorflow-io-gcs-filesystem>=0.23.1 in c:\\programdata\\anaconda3\\lib\\site-packages (from tensorflow-intel==2.11.0->tensorflow) (0.30.0)\n",
      "Requirement already satisfied: setuptools in c:\\programdata\\anaconda3\\lib\\site-packages (from tensorflow-intel==2.11.0->tensorflow) (61.2.0)\n",
      "Requirement already satisfied: termcolor>=1.1.0 in c:\\programdata\\anaconda3\\lib\\site-packages (from tensorflow-intel==2.11.0->tensorflow) (2.2.0)\n",
      "Requirement already satisfied: wrapt>=1.11.0 in c:\\programdata\\anaconda3\\lib\\site-packages (from tensorflow-intel==2.11.0->tensorflow) (1.12.1)\n",
      "Requirement already satisfied: astunparse>=1.6.0 in c:\\programdata\\anaconda3\\lib\\site-packages (from tensorflow-intel==2.11.0->tensorflow) (1.6.3)\n",
      "Requirement already satisfied: packaging in c:\\programdata\\anaconda3\\lib\\site-packages (from tensorflow-intel==2.11.0->tensorflow) (21.3)\n",
      "Requirement already satisfied: absl-py>=1.0.0 in c:\\programdata\\anaconda3\\lib\\site-packages (from tensorflow-intel==2.11.0->tensorflow) (1.4.0)\n",
      "Requirement already satisfied: tensorflow-estimator<2.12,>=2.11.0 in c:\\programdata\\anaconda3\\lib\\site-packages (from tensorflow-intel==2.11.0->tensorflow) (2.11.0)\n",
      "Collecting flatbuffers>=2.0\n",
      "  Using cached flatbuffers-2.0.7-py2.py3-none-any.whl (26 kB)\n",
      "Requirement already satisfied: requests in c:\\programdata\\anaconda3\\lib\\site-packages (from tf2onnx) (2.27.1)\n",
      "Requirement already satisfied: onnx>=1.4.1 in c:\\users\\andri\\appdata\\roaming\\python\\python39\\site-packages (from tf2onnx) (1.9.0)\n",
      "Requirement already satisfied: wheel<1.0,>=0.23.0 in c:\\programdata\\anaconda3\\lib\\site-packages (from astunparse>=1.6.0->tensorflow-intel==2.11.0->tensorflow) (0.37.1)\n",
      "Requirement already satisfied: markdown>=2.6.8 in c:\\programdata\\anaconda3\\lib\\site-packages (from tensorboard<2.12,>=2.11->tensorflow-intel==2.11.0->tensorflow) (3.3.4)\n",
      "Requirement already satisfied: tensorboard-plugin-wit>=1.6.0 in c:\\programdata\\anaconda3\\lib\\site-packages (from tensorboard<2.12,>=2.11->tensorflow-intel==2.11.0->tensorflow) (1.8.1)\n",
      "Requirement already satisfied: google-auth-oauthlib<0.5,>=0.4.1 in c:\\programdata\\anaconda3\\lib\\site-packages (from tensorboard<2.12,>=2.11->tensorflow-intel==2.11.0->tensorflow) (0.4.6)\n",
      "Requirement already satisfied: google-auth<3,>=1.6.3 in c:\\programdata\\anaconda3\\lib\\site-packages (from tensorboard<2.12,>=2.11->tensorflow-intel==2.11.0->tensorflow) (1.33.0)\n",
      "Requirement already satisfied: tensorboard-data-server<0.7.0,>=0.6.0 in c:\\programdata\\anaconda3\\lib\\site-packages (from tensorboard<2.12,>=2.11->tensorflow-intel==2.11.0->tensorflow) (0.6.1)\n",
      "Requirement already satisfied: werkzeug>=1.0.1 in c:\\programdata\\anaconda3\\lib\\site-packages (from tensorboard<2.12,>=2.11->tensorflow-intel==2.11.0->tensorflow) (2.0.3)\n",
      "Requirement already satisfied: rsa<5,>=3.1.4 in c:\\programdata\\anaconda3\\lib\\site-packages (from google-auth<3,>=1.6.3->tensorboard<2.12,>=2.11->tensorflow-intel==2.11.0->tensorflow) (4.7.2)\n",
      "Requirement already satisfied: cachetools<5.0,>=2.0.0 in c:\\programdata\\anaconda3\\lib\\site-packages (from google-auth<3,>=1.6.3->tensorboard<2.12,>=2.11->tensorflow-intel==2.11.0->tensorflow) (4.2.2)\n",
      "Requirement already satisfied: pyasn1-modules>=0.2.1 in c:\\programdata\\anaconda3\\lib\\site-packages (from google-auth<3,>=1.6.3->tensorboard<2.12,>=2.11->tensorflow-intel==2.11.0->tensorflow) (0.2.8)\n",
      "Requirement already satisfied: requests-oauthlib>=0.7.0 in c:\\programdata\\anaconda3\\lib\\site-packages (from google-auth-oauthlib<0.5,>=0.4.1->tensorboard<2.12,>=2.11->tensorflow-intel==2.11.0->tensorflow) (1.3.1)\n",
      "Requirement already satisfied: pyasn1<0.5.0,>=0.4.6 in c:\\programdata\\anaconda3\\lib\\site-packages (from pyasn1-modules>=0.2.1->google-auth<3,>=1.6.3->tensorboard<2.12,>=2.11->tensorflow-intel==2.11.0->tensorflow) (0.4.8)\n",
      "Requirement already satisfied: certifi>=2017.4.17 in c:\\programdata\\anaconda3\\lib\\site-packages (from requests->tf2onnx) (2021.10.8)\n",
      "Requirement already satisfied: urllib3<1.27,>=1.21.1 in c:\\programdata\\anaconda3\\lib\\site-packages (from requests->tf2onnx) (1.26.9)\n",
      "Requirement already satisfied: idna<4,>=2.5 in c:\\programdata\\anaconda3\\lib\\site-packages (from requests->tf2onnx) (3.3)\n",
      "Requirement already satisfied: charset-normalizer~=2.0.0 in c:\\programdata\\anaconda3\\lib\\site-packages (from requests->tf2onnx) (2.0.4)\n",
      "Requirement already satisfied: oauthlib>=3.0.0 in c:\\programdata\\anaconda3\\lib\\site-packages (from requests-oauthlib>=0.7.0->google-auth-oauthlib<0.5,>=0.4.1->tensorboard<2.12,>=2.11->tensorflow-intel==2.11.0->tensorflow) (3.2.2)\n",
      "Requirement already satisfied: pyparsing!=3.0.5,>=2.0.2 in c:\\programdata\\anaconda3\\lib\\site-packages (from packaging->tensorflow-intel==2.11.0->tensorflow) (3.0.4)\n",
      "Installing collected packages: flatbuffers, tf2onnx\n",
      "Successfully installed flatbuffers-2.0.7 tf2onnx-1.14.0\n"
     ]
    }
   ],
   "source": [
    "!pip install tensorflow tf2onnx"
   ]
  },
  {
   "cell_type": "code",
   "execution_count": 21,
   "id": "0d631f31",
   "metadata": {},
   "outputs": [
    {
     "name": "stdout",
     "output_type": "stream",
     "text": [
      "Defaulting to user installation because normal site-packages is not writeable"
     ]
    },
    {
     "name": "stderr",
     "output_type": "stream",
     "text": [
      "  WARNING: The script humanfriendly.exe is installed in 'C:\\Users\\andri\\AppData\\Roaming\\Python\\Python39\\Scripts' which is not on PATH.\n",
      "  Consider adding this directory to PATH or, if you prefer to suppress this warning, use --no-warn-script-location.\n",
      "  WARNING: The script f2py.exe is installed in 'C:\\Users\\andri\\AppData\\Roaming\\Python\\Python39\\Scripts' which is not on PATH.\n",
      "  Consider adding this directory to PATH or, if you prefer to suppress this warning, use --no-warn-script-location.\n",
      "  WARNING: The script coloredlogs.exe is installed in 'C:\\Users\\andri\\AppData\\Roaming\\Python\\Python39\\Scripts' which is not on PATH.\n",
      "  Consider adding this directory to PATH or, if you prefer to suppress this warning, use --no-warn-script-location.\n",
      "  WARNING: The script onnxruntime_test.exe is installed in 'C:\\Users\\andri\\AppData\\Roaming\\Python\\Python39\\Scripts' which is not on PATH.\n",
      "  Consider adding this directory to PATH or, if you prefer to suppress this warning, use --no-warn-script-location.\n",
      "ERROR: pip's dependency resolver does not currently take into account all the packages that are installed. This behaviour is the source of the following dependency conflicts.\n",
      "daal4py 2021.5.0 requires daal==2021.4.0, which is not installed.\n",
      "scipy 1.7.3 requires numpy<1.23.0,>=1.16.5, but you have numpy 1.24.3 which is incompatible.\n",
      "numba 0.55.1 requires numpy<1.22,>=1.18, but you have numpy 1.24.3 which is incompatible.\n"
     ]
    },
    {
     "name": "stdout",
     "output_type": "stream",
     "text": [
      "\n",
      "Collecting onnxruntime\n",
      "  Downloading onnxruntime-1.14.1-cp39-cp39-win_amd64.whl (6.5 MB)\n",
      "Requirement already satisfied: protobuf in c:\\programdata\\anaconda3\\lib\\site-packages (from onnxruntime) (3.19.1)\n",
      "Requirement already satisfied: packaging in c:\\programdata\\anaconda3\\lib\\site-packages (from onnxruntime) (21.3)\n",
      "Collecting numpy>=1.21.6\n",
      "  Downloading numpy-1.24.3-cp39-cp39-win_amd64.whl (14.9 MB)\n",
      "Collecting coloredlogs\n",
      "  Downloading coloredlogs-15.0.1-py2.py3-none-any.whl (46 kB)\n",
      "Requirement already satisfied: flatbuffers in c:\\users\\andri\\appdata\\roaming\\python\\python39\\site-packages (from onnxruntime) (2.0.7)\n",
      "Requirement already satisfied: sympy in c:\\programdata\\anaconda3\\lib\\site-packages (from onnxruntime) (1.10.1)\n",
      "Collecting humanfriendly>=9.1\n",
      "  Downloading humanfriendly-10.0-py2.py3-none-any.whl (86 kB)\n",
      "Collecting pyreadline3\n",
      "  Downloading pyreadline3-3.4.1-py3-none-any.whl (95 kB)\n",
      "Requirement already satisfied: pyparsing!=3.0.5,>=2.0.2 in c:\\programdata\\anaconda3\\lib\\site-packages (from packaging->onnxruntime) (3.0.4)\n",
      "Requirement already satisfied: mpmath>=0.19 in c:\\programdata\\anaconda3\\lib\\site-packages (from sympy->onnxruntime) (1.2.1)\n",
      "Installing collected packages: pyreadline3, humanfriendly, numpy, coloredlogs, onnxruntime\n",
      "Successfully installed coloredlogs-15.0.1 humanfriendly-10.0 numpy-1.24.3 onnxruntime-1.14.1 pyreadline3-3.4.1\n"
     ]
    }
   ],
   "source": [
    "!pip install onnxruntime"
   ]
  },
  {
   "cell_type": "code",
   "execution_count": 29,
   "id": "17ef4240",
   "metadata": {},
   "outputs": [
    {
     "name": "stdout",
     "output_type": "stream",
     "text": [
      "Defaulting to user installation because normal site-packages is not writeable\n"
     ]
    },
    {
     "name": "stderr",
     "output_type": "stream",
     "text": [
      "ERROR: Could not find a version that satisfies the requirement tensorflow==1.13.1 (from versions: 2.5.0, 2.5.1, 2.5.2, 2.5.3, 2.6.0rc0, 2.6.0rc1, 2.6.0rc2, 2.6.0, 2.6.1, 2.6.2, 2.6.3, 2.6.4, 2.6.5, 2.7.0rc0, 2.7.0rc1, 2.7.0, 2.7.1, 2.7.2, 2.7.3, 2.7.4, 2.8.0rc0, 2.8.0rc1, 2.8.0, 2.8.1, 2.8.2, 2.8.3, 2.8.4, 2.9.0rc0, 2.9.0rc1, 2.9.0rc2, 2.9.0, 2.9.1, 2.9.2, 2.9.3, 2.10.0rc0, 2.10.0rc1, 2.10.0rc2, 2.10.0rc3, 2.10.0, 2.10.1, 2.11.0rc0, 2.11.0rc1, 2.11.0rc2, 2.11.0, 2.11.1, 2.12.0rc0, 2.12.0rc1, 2.12.0)\n",
      "ERROR: No matching distribution found for tensorflow==1.13.1\n"
     ]
    }
   ],
   "source": [
    "!pip install tensorflow==1.13.1"
   ]
  },
  {
   "cell_type": "code",
   "execution_count": 31,
   "id": "fd6addbe",
   "metadata": {},
   "outputs": [],
   "source": [
    "import tf2onnx.convert\n",
    "import onnx\n",
    "\n",
    "from tensorflow.keras.models import load_model\n",
    "keras_mdoel = load_model('emotion_detection_model.h5')\n",
    "\n",
    "onnx_model, _ = tf2onnx.convert.from_keras(keras_mdoel)\n",
    "onnx.save(onnx_model, 'model.onnx')"
   ]
  },
  {
   "cell_type": "code",
   "execution_count": null,
   "id": "77071104",
   "metadata": {},
   "outputs": [],
   "source": []
  }
 ],
 "metadata": {
  "kernelspec": {
   "display_name": "Python 3 (ipykernel)",
   "language": "python",
   "name": "python3"
  },
  "language_info": {
   "codemirror_mode": {
    "name": "ipython",
    "version": 3
   },
   "file_extension": ".py",
   "mimetype": "text/x-python",
   "name": "python",
   "nbconvert_exporter": "python",
   "pygments_lexer": "ipython3",
   "version": "3.9.12"
  }
 },
 "nbformat": 4,
 "nbformat_minor": 5
}
